{
  "nbformat": 4,
  "nbformat_minor": 0,
  "metadata": {
    "kernelspec": {
      "language": "python",
      "display_name": "Python 3",
      "name": "python3"
    },
    "language_info": {
      "pygments_lexer": "ipython3",
      "nbconvert_exporter": "python",
      "version": "3.6.4",
      "file_extension": ".py",
      "codemirror_mode": {
        "name": "ipython",
        "version": 3
      },
      "name": "python",
      "mimetype": "text/x-python"
    },
    "colab": {
      "name": "Banknote Recognition.ipynb",
      "provenance": []
    }
  },
  "cells": [
    {
      "cell_type": "code",
      "metadata": {
        "_uuid": "8f2839f25d086af736a60e9eeb907d3b93b6e0e5",
        "_cell_guid": "b1076dfc-b9ad-4769-8c92-a6c4dae69d19",
        "trusted": true,
        "id": "WTNLkv_l5Jsp",
        "colab_type": "code",
        "colab": {}
      },
      "source": [
        "# This Python 3 environment comes with many helpful analytics libraries installed\n",
        "# It is defined by the kaggle/python Docker image: https://github.com/kaggle/docker-python\n",
        "# For example, here's several helpful packages to load\n",
        "\n",
        "import numpy as np # linear algebra\n",
        "import pandas as pd # data processing, CSV file I/O (e.g. pd.read_csv)\n",
        "\n"
      ],
      "execution_count": 0,
      "outputs": []
    },
    {
      "cell_type": "code",
      "metadata": {
        "_uuid": "d629ff2d2480ee46fbb7e2d37f6b5fab8052498a",
        "_cell_guid": "79c7e3d0-c299-4dcb-8224-4455121ee9b0",
        "trusted": true,
        "id": "bc4zHGSw5Jsx",
        "colab_type": "code",
        "colab": {}
      },
      "source": [
        "import cv2\n",
        "import os\n",
        "from PIL import Image\n",
        "import numpy as np\n",
        "\n",
        "X=[]\n",
        "labels=[]\n",
        "for dirname, _, filenames in os.walk('/kaggle/input'):\n",
        "    \n",
        "    for filename in filenames:\n",
        "        \n",
        "        if( len( str( os.path.join( dirname, filename ) ).split( '/' ) ) > 5 ) :\n",
        "            \n",
        "            image = cv2.imread( os.path.join( dirname,filename ) )\n",
        "            \n",
        "            img_array = Image.fromarray( image, 'RGB' )\n",
        "            \n",
        "            resized_img = img_array.resize( ( 64, 64 ) )\n",
        "            \n",
        "            X.append( np.array( resized_img ) ) \n",
        "            \n",
        "            label = str( os.path.join( dirname,filename ) ).split( '/' )[-2]\n",
        "            \n",
        "            if( label == '5' ) :\n",
        "                \n",
        "                labels.append( 0 )\n",
        "                \n",
        "            elif( label == '10' ) :\n",
        "                \n",
        "                labels.append( 1 )\n",
        "             \n",
        "            elif( label == '20' ) :\n",
        "                \n",
        "                labels.append( 2 )\n",
        "                \n",
        "            elif( label == '50' ) :\n",
        "                \n",
        "                labels.append( 3 )\n",
        "                \n",
        "            elif( label == '100' ) :\n",
        "                \n",
        "                labels.append( 4 )\n",
        "                \n",
        "            else :\n",
        "                \n",
        "                labels.append( 5 )\n"
      ],
      "execution_count": 0,
      "outputs": []
    },
    {
      "cell_type": "code",
      "metadata": {
        "trusted": true,
        "id": "bqczHU4y5Js3",
        "colab_type": "code",
        "colab": {},
        "outputId": "e4929cd6-616b-49b3-e783-8dc9c798953c"
      },
      "source": [
        "print(\"Number of images : %d\"%len(X))\n",
        "print('Associated labels : %d' % len( labels ) )"
      ],
      "execution_count": 0,
      "outputs": [
        {
          "output_type": "stream",
          "text": [
            "Number of images : 6000\n",
            "Associated labels : 6000\n"
          ],
          "name": "stdout"
        }
      ]
    },
    {
      "cell_type": "code",
      "metadata": {
        "trusted": true,
        "id": "Dyx9UpqL5JtA",
        "colab_type": "code",
        "colab": {},
        "outputId": "e26bb5b2-b38e-4a36-d03e-bc78c3f056b3"
      },
      "source": [
        "X=np.array(X)\n",
        "print(X.shape)"
      ],
      "execution_count": 0,
      "outputs": [
        {
          "output_type": "stream",
          "text": [
            "(6000, 64, 64, 3)\n"
          ],
          "name": "stdout"
        }
      ]
    },
    {
      "cell_type": "code",
      "metadata": {
        "trusted": true,
        "id": "ZTmIxSsi5JtG",
        "colab_type": "code",
        "colab": {},
        "outputId": "bb473327-fd89-4b07-b1a9-80839263fce2"
      },
      "source": [
        "Y=np.array(labels)\n",
        "Y=Y.reshape((6000,1))\n",
        "print( 'Shape of Y : ', Y.shape )"
      ],
      "execution_count": 0,
      "outputs": [
        {
          "output_type": "stream",
          "text": [
            "Shape of Y :  (6000, 1)\n"
          ],
          "name": "stdout"
        }
      ]
    },
    {
      "cell_type": "code",
      "metadata": {
        "trusted": true,
        "id": "2VguoHxf5JtM",
        "colab_type": "code",
        "colab": {},
        "outputId": "5823de2a-d5e5-4c33-83c6-609cb434f2ef"
      },
      "source": [
        "from sklearn.model_selection import train_test_split\n",
        "\n",
        "X_train,_test,Y_train,Y_test=train_test_split(X,Y,random_state=1,test_size=0.2)\n",
        "\n",
        "print( X_train.shape )\n",
        "\n",
        "print( Y_train.shape )"
      ],
      "execution_count": 0,
      "outputs": [
        {
          "output_type": "stream",
          "text": [
            "(4800, 64, 64, 3)\n",
            "(4800, 1)\n"
          ],
          "name": "stdout"
        }
      ]
    },
    {
      "cell_type": "code",
      "metadata": {
        "trusted": true,
        "id": "BImIASfk5JtS",
        "colab_type": "code",
        "colab": {},
        "outputId": "60dfc12d-d9e5-4b71-cbb5-ad6f05094f95"
      },
      "source": [
        "from keras.utils import to_categorical\n",
        "\n",
        "Y_train = np.reshape( Y_train, ( 4800, 1 ) )\n",
        "\n",
        "Y_train = to_categorical( Y_train, 6 )\n",
        "\n",
        "print(Y_train.shape)\n",
        "\n"
      ],
      "execution_count": 0,
      "outputs": [
        {
          "output_type": "stream",
          "text": [
            "(4800, 6)\n"
          ],
          "name": "stdout"
        }
      ]
    },
    {
      "cell_type": "code",
      "metadata": {
        "trusted": true,
        "id": "Q_BshbvA5JtZ",
        "colab_type": "code",
        "colab": {}
      },
      "source": [
        "from keras.models import Sequential\n",
        "from keras.layers import Conv2D, MaxPooling2D, Flatten, Dense, Dropout, Activation, ZeroPadding2D, AveragePooling2D\n",
        "\n",
        "from keras.layers.advanced_activations import LeakyReLU\n",
        "from keras.layers.normalization import BatchNormalization\n"
      ],
      "execution_count": 0,
      "outputs": []
    },
    {
      "cell_type": "code",
      "metadata": {
        "trusted": true,
        "id": "AV40bjOA5Jte",
        "colab_type": "code",
        "colab": {},
        "outputId": "6c8429fd-ae39-4625-b07f-9944e88be27c"
      },
      "source": [
        "from keras import backend as K\n",
        "\n",
        "K.clear_session()\n",
        "\n",
        "model=Sequential()\n",
        "model.add(ZeroPadding2D(input_shape=(64,64,3),padding=(3,3)))\n",
        "model.add(Conv2D(32,(7,7),strides=(1,1)))\n",
        "model.add(BatchNormalization(axis=3))\n",
        "model.add(Activation(\"relu\"))\n",
        "model.add(MaxPooling2D((2,2)))\n",
        "model.add(Flatten())\n",
        "model.add(Dense(6))\n",
        "model.add(Activation(\"softmax\"))\n",
        "model.summary()\n",
        "\n",
        "\n",
        "\n"
      ],
      "execution_count": 0,
      "outputs": [
        {
          "output_type": "stream",
          "text": [
            "Model: \"sequential_1\"\n",
            "_________________________________________________________________\n",
            "Layer (type)                 Output Shape              Param #   \n",
            "=================================================================\n",
            "zero_padding2d_1 (ZeroPaddin (None, 70, 70, 3)         0         \n",
            "_________________________________________________________________\n",
            "conv2d_1 (Conv2D)            (None, 64, 64, 32)        4736      \n",
            "_________________________________________________________________\n",
            "batch_normalization_1 (Batch (None, 64, 64, 32)        128       \n",
            "_________________________________________________________________\n",
            "activation_1 (Activation)    (None, 64, 64, 32)        0         \n",
            "_________________________________________________________________\n",
            "max_pooling2d_1 (MaxPooling2 (None, 32, 32, 32)        0         \n",
            "_________________________________________________________________\n",
            "flatten_1 (Flatten)          (None, 32768)             0         \n",
            "_________________________________________________________________\n",
            "dense_1 (Dense)              (None, 6)                 196614    \n",
            "_________________________________________________________________\n",
            "activation_2 (Activation)    (None, 6)                 0         \n",
            "=================================================================\n",
            "Total params: 201,478\n",
            "Trainable params: 201,414\n",
            "Non-trainable params: 64\n",
            "_________________________________________________________________\n"
          ],
          "name": "stdout"
        }
      ]
    },
    {
      "cell_type": "code",
      "metadata": {
        "trusted": true,
        "id": "-TVPfc1B5Jtk",
        "colab_type": "code",
        "colab": {}
      },
      "source": [
        "model.compile( loss = 'categorical_crossentropy', optimizer = 'adam', metrics = ['accuracy'] )"
      ],
      "execution_count": 0,
      "outputs": []
    },
    {
      "cell_type": "code",
      "metadata": {
        "trusted": true,
        "id": "dkJjkiGT5Jtp",
        "colab_type": "code",
        "colab": {},
        "outputId": "0fb468eb-8fe2-422a-f447-791b65dedffd"
      },
      "source": [
        "history=model.fit( X_train, Y_train, batch_size = 64, epochs = 20 )"
      ],
      "execution_count": 0,
      "outputs": [
        {
          "output_type": "stream",
          "text": [
            "Epoch 1/20\n",
            "4800/4800 [==============================] - 19s 4ms/step - loss: 0.1304 - accuracy: 0.9669\n",
            "Epoch 2/20\n",
            "4800/4800 [==============================] - 18s 4ms/step - loss: 0.0959 - accuracy: 0.9746\n",
            "Epoch 3/20\n",
            "4800/4800 [==============================] - 18s 4ms/step - loss: 0.0346 - accuracy: 0.9902\n",
            "Epoch 4/20\n",
            "4800/4800 [==============================] - 19s 4ms/step - loss: 0.0027 - accuracy: 0.9990\n",
            "Epoch 5/20\n",
            "4800/4800 [==============================] - 18s 4ms/step - loss: 0.0106 - accuracy: 0.9962\n",
            "Epoch 6/20\n",
            "4800/4800 [==============================] - 18s 4ms/step - loss: 0.0036 - accuracy: 0.9994\n",
            "Epoch 7/20\n",
            "4800/4800 [==============================] - 19s 4ms/step - loss: 4.6430e-04 - accuracy: 1.0000\n",
            "Epoch 8/20\n",
            "4800/4800 [==============================] - 19s 4ms/step - loss: 0.0014 - accuracy: 0.9996\n",
            "Epoch 9/20\n",
            "4800/4800 [==============================] - 18s 4ms/step - loss: 5.6630e-04 - accuracy: 1.0000\n",
            "Epoch 10/20\n",
            "4800/4800 [==============================] - 19s 4ms/step - loss: 2.4904e-04 - accuracy: 1.0000\n",
            "Epoch 11/20\n",
            "4800/4800 [==============================] - 19s 4ms/step - loss: 5.1401e-04 - accuracy: 0.9998\n",
            "Epoch 12/20\n",
            "4800/4800 [==============================] - 19s 4ms/step - loss: 2.6892e-04 - accuracy: 1.0000\n",
            "Epoch 13/20\n",
            "4800/4800 [==============================] - 19s 4ms/step - loss: 1.0880e-04 - accuracy: 1.0000\n",
            "Epoch 14/20\n",
            "4800/4800 [==============================] - 19s 4ms/step - loss: 5.6206e-04 - accuracy: 0.9998\n",
            "Epoch 15/20\n",
            "4800/4800 [==============================] - 19s 4ms/step - loss: 2.2341e-04 - accuracy: 1.0000\n",
            "Epoch 16/20\n",
            "4800/4800 [==============================] - 18s 4ms/step - loss: 1.4119e-04 - accuracy: 1.0000\n",
            "Epoch 17/20\n",
            "4800/4800 [==============================] - 19s 4ms/step - loss: 1.9796e-04 - accuracy: 1.0000\n",
            "Epoch 18/20\n",
            "4800/4800 [==============================] - 18s 4ms/step - loss: 2.2555e-04 - accuracy: 1.0000\n",
            "Epoch 19/20\n",
            "4800/4800 [==============================] - 18s 4ms/step - loss: 9.7576e-05 - accuracy: 1.0000\n",
            "Epoch 20/20\n",
            "4800/4800 [==============================] - 19s 4ms/step - loss: 5.2977e-05 - accuracy: 1.0000\n"
          ],
          "name": "stdout"
        }
      ]
    },
    {
      "cell_type": "code",
      "metadata": {
        "trusted": true,
        "id": "Z8xI_Dbn5Jtu",
        "colab_type": "code",
        "colab": {
          "base_uri": "https://localhost:8080/",
          "height": 231
        },
        "outputId": "1620ea13-8286-4900-a3d9-2b1b3e94e0f9"
      },
      "source": [
        "import matplotlib.pyplot as plt\n",
        "\n",
        "plt.plot(history.history['accuracy'])\n",
        "\n",
        "plt.title('model accuracy')\n",
        "plt.ylabel('accuracy')\n",
        "plt.xlabel('epoch')\n",
        "plt.legend(['train', 'test'], loc='upper left')\n",
        "plt.show()\n",
        "\n",
        "print(history.history.keys())\n"
      ],
      "execution_count": 1,
      "outputs": [
        {
          "output_type": "error",
          "ename": "NameError",
          "evalue": "ignored",
          "traceback": [
            "\u001b[0;31m---------------------------------------------------------------------------\u001b[0m",
            "\u001b[0;31mNameError\u001b[0m                                 Traceback (most recent call last)",
            "\u001b[0;32m<ipython-input-1-f68cc685b1da>\u001b[0m in \u001b[0;36m<module>\u001b[0;34m()\u001b[0m\n\u001b[1;32m      1\u001b[0m \u001b[0;32mimport\u001b[0m \u001b[0mmatplotlib\u001b[0m\u001b[0;34m.\u001b[0m\u001b[0mpyplot\u001b[0m \u001b[0;32mas\u001b[0m \u001b[0mplt\u001b[0m\u001b[0;34m\u001b[0m\u001b[0;34m\u001b[0m\u001b[0m\n\u001b[1;32m      2\u001b[0m \u001b[0;34m\u001b[0m\u001b[0m\n\u001b[0;32m----> 3\u001b[0;31m \u001b[0mplt\u001b[0m\u001b[0;34m.\u001b[0m\u001b[0mplot\u001b[0m\u001b[0;34m(\u001b[0m\u001b[0mhistory\u001b[0m\u001b[0;34m.\u001b[0m\u001b[0mhistory\u001b[0m\u001b[0;34m[\u001b[0m\u001b[0;34m'accuracy'\u001b[0m\u001b[0;34m]\u001b[0m\u001b[0;34m)\u001b[0m\u001b[0;34m\u001b[0m\u001b[0;34m\u001b[0m\u001b[0m\n\u001b[0m\u001b[1;32m      4\u001b[0m \u001b[0;34m\u001b[0m\u001b[0m\n\u001b[1;32m      5\u001b[0m \u001b[0mplt\u001b[0m\u001b[0;34m.\u001b[0m\u001b[0mtitle\u001b[0m\u001b[0;34m(\u001b[0m\u001b[0;34m'model accuracy'\u001b[0m\u001b[0;34m)\u001b[0m\u001b[0;34m\u001b[0m\u001b[0;34m\u001b[0m\u001b[0m\n",
            "\u001b[0;31mNameError\u001b[0m: name 'history' is not defined"
          ]
        }
      ]
    },
    {
      "cell_type": "code",
      "metadata": {
        "trusted": true,
        "id": "xHrN8eww5Jt1",
        "colab_type": "code",
        "colab": {}
      },
      "source": [
        ""
      ],
      "execution_count": 0,
      "outputs": []
    }
  ]
}