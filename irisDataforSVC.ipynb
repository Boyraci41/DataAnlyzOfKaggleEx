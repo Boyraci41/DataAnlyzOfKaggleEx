{
  "nbformat": 4,
  "nbformat_minor": 0,
  "metadata": {
    "colab": {
      "name": "irisDataforSVC",
      "provenance": [],
      "collapsed_sections": [],
      "authorship_tag": "ABX9TyMVsLJv2/3CyMidagRLvIQb",
      "include_colab_link": true
    },
    "kernelspec": {
      "name": "python3",
      "display_name": "Python 3"
    }
  },
  "cells": [
    {
      "cell_type": "markdown",
      "metadata": {
        "id": "view-in-github",
        "colab_type": "text"
      },
      "source": [
        "<a href=\"https://colab.research.google.com/github/Boyraci41/DataKaggleEx/blob/master/irisDataforSVC.ipynb\" target=\"_parent\"><img src=\"https://colab.research.google.com/assets/colab-badge.svg\" alt=\"Open In Colab\"/></a>"
      ]
    },
    {
      "cell_type": "code",
      "metadata": {
        "id": "Qk6fvpazSOTZ",
        "colab_type": "code",
        "colab": {}
      },
      "source": [
        "from sklearn.svm import SVC\n",
        "from sklearn import datasets\n",
        "from sklearn.model_selection import train_test_split\n",
        "from sklearn.metrics import r2_score"
      ],
      "execution_count": 0,
      "outputs": []
    },
    {
      "cell_type": "code",
      "metadata": {
        "id": "1YF_hraZqu3-",
        "colab_type": "code",
        "outputId": "e9b650b6-aba7-43fc-e0d6-38d1703dfad1",
        "colab": {
          "base_uri": "https://localhost:8080/",
          "height": 34
        }
      },
      "source": [
        "iris=datasets.load_iris()\n",
        "X,y=iris.data,iris.target\n",
        "\n",
        "X_train,X_test,y_train,y_test=train_test_split(X,y,test_size=0.33,random_state=0)\n",
        "\n",
        "clf=SVC(C=1.0, cache_size=200, class_weight=None, coef0=0.0,  decision_function_shape=None, degree=3, gamma='auto', kernel='rbf', \n",
        "           max_iter=-1, probability=False, \n",
        "      random_state=None, shrinking=True,  tol=0.001, verbose=False) \n",
        "\n",
        "clf.fit(X_train,y_train)\n",
        "\n",
        "y_pred=clf.predict(X_test)\n",
        "\n",
        "rsquare=r2_score(y_pred,y_test)\n",
        "\n",
        "rsquare  \n",
        "\n",
        "\n",
        "\n",
        "\n",
        "\n",
        "\n"
      ],
      "execution_count": 0,
      "outputs": [
        {
          "output_type": "execute_result",
          "data": {
            "text/plain": [
              "0.96875"
            ]
          },
          "metadata": {
            "tags": []
          },
          "execution_count": 81
        }
      ]
    },
    {
      "cell_type": "code",
      "metadata": {
        "id": "usXmQeMSq4vP",
        "colab_type": "code",
        "colab": {}
      },
      "source": [
        ""
      ],
      "execution_count": 0,
      "outputs": []
    }
  ]
}